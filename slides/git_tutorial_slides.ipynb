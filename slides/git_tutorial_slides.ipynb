{
 "cells": [
  {
   "cell_type": "markdown",
   "metadata": {
    "slideshow": {
     "slide_type": "slide"
    }
   },
   "source": [
    "# Version Control with Git\n",
    "\n",
    "#### Maximilian Albert, 18.3.2015\n",
    "\n",
    "<tt>maximilian.albert@gmail.com</tt>"
   ]
  },
  {
   "cell_type": "markdown",
   "metadata": {
    "slideshow": {
     "slide_type": "slide"
    }
   },
   "source": [
    "# What is version control?"
   ]
  },
  {
   "cell_type": "markdown",
   "metadata": {},
   "source": [
    "- Annotated history of changes to a project\n",
    "\n",
    "- Track your changes in well-defined, logical steps\n",
    "\n",
    "- Works best for text-based files (source code, LaTeX, etc.)"
   ]
  },
  {
   "cell_type": "markdown",
   "metadata": {
    "slideshow": {
     "slide_type": "slide"
    }
   },
   "source": [
    "### Example 1: Paper Draft (single user)"
   ]
  },
  {
   "cell_type": "markdown",
   "metadata": {},
   "source": [
    "<img src=\"images/history_example_1.png\">"
   ]
  },
  {
   "cell_type": "markdown",
   "metadata": {
    "slideshow": {
     "slide_type": "skip"
    }
   },
   "source": [
    "- Single-user project\n",
    "- LaTeX files & data analysis/plotting code"
   ]
  },
  {
   "cell_type": "markdown",
   "metadata": {
    "slideshow": {
     "slide_type": "slide"
    }
   },
   "source": [
    "### Example 2: Collaboration on Grant Proposal"
   ]
  },
  {
   "cell_type": "markdown",
   "metadata": {
    "slideshow": {
     "slide_type": "-"
    }
   },
   "source": [
    "<img src=\"images/history_example_2.png\">"
   ]
  },
  {
   "cell_type": "markdown",
   "metadata": {
    "slideshow": {
     "slide_type": "fragment"
    }
   },
   "source": [
    "Repository publicly available! &nbsp; https://github.com/sagemath/grant-europe"
   ]
  },
  {
   "cell_type": "markdown",
   "metadata": {
    "slideshow": {
     "slide_type": "slide"
    }
   },
   "source": [
    "# Why use it?"
   ]
  },
  {
   "cell_type": "markdown",
   "metadata": {
    "slideshow": {
     "slide_type": "fragment"
    }
   },
   "source": [
    "<img src=\"images/thesis_mess_2.png\">"
   ]
  },
  {
   "cell_type": "markdown",
   "metadata": {
    "slideshow": {
     "slide_type": "fragment"
    }
   },
   "source": [
    "None of this mess any more!"
   ]
  },
  {
   "cell_type": "markdown",
   "metadata": {},
   "source": [
    "None of this any more!"
   ]
  },
  {
   "cell_type": "markdown",
   "metadata": {
    "slideshow": {
     "slide_type": "slide"
    }
   },
   "source": [
    "# Why use it?"
   ]
  },
  {
   "cell_type": "markdown",
   "metadata": {},
   "source": [
    "<style>\n",
    "  .bottom-space {\n",
    "     margin-bottom: 1cm;\n",
    "  }\n",
    "</style>\n",
    "\n",
    "- Keeping track of versions\n",
    "\n",
    "<p style=\"margin-bottom:0.5cm\"></p>\n",
    "\n",
    "- Peace of mind while working\n",
    "\n",
    "  - Compare against & revert to well-defined state\n",
    "  - Easy experimenting (branches)\n",
    "\n",
    "<p style=\"margin-bottom:0.5cm\"></p>\n",
    "\n",
    "- \"Backup\" / syncing between computers\n",
    "\n",
    "<p style=\"margin-bottom:0.5cm\"></p>\n",
    "\n",
    "- Collaboration / easy sharing (\"open science\")"
   ]
  },
  {
   "cell_type": "markdown",
   "metadata": {
    "slideshow": {
     "slide_type": "slide"
    }
   },
   "source": [
    "# <center>Demo time!<center>"
   ]
  },
  {
   "cell_type": "markdown",
   "metadata": {
    "slideshow": {
     "slide_type": "slide"
    }
   },
   "source": [
    "# First-time configuration\n",
    "\n",
    "<br>\n",
    "\n",
    "```bash\n",
    "git config --global user.name \"Homer Simpson\"\n",
    "git config --global user.email \"homer@mmmpie.com\"\n",
    "```"
   ]
  },
  {
   "cell_type": "markdown",
   "metadata": {
    "slideshow": {
     "slide_type": "slide"
    }
   },
   "source": [
    "# Most used commands\n",
    "\n",
    "<br>\n",
    "\n",
    "```bash\n",
    "git init  # only once in the beginning\n",
    "\n",
    "git add FILENAME\n",
    "git status\n",
    "git diff [FILENAME]\n",
    "git commit -a -m \"Informative message\"\n",
    "git log\n",
    "```"
   ]
  },
  {
   "cell_type": "markdown",
   "metadata": {
    "slideshow": {
     "slide_type": "-"
    }
   },
   "source": []
  }
 ],
 "metadata": {
  "celltoolbar": "Slideshow",
  "kernelspec": {
   "display_name": "Python 2",
   "language": "python",
   "name": "python2"
  },
  "language_info": {
   "codemirror_mode": {
    "name": "ipython",
    "version": 2
   },
   "file_extension": ".py",
   "mimetype": "text/x-python",
   "name": "python",
   "nbconvert_exporter": "python",
   "pygments_lexer": "ipython2",
   "version": "2.7.3"
  }
 },
 "nbformat": 4,
 "nbformat_minor": 0
}
